{
 "cells": [
  {
   "cell_type": "code",
   "execution_count": 1,
   "id": "10bbfac4-38dd-4247-bc38-caed563d1d32",
   "metadata": {},
   "outputs": [],
   "source": [
    "import numpy as np\n",
    "from mmm_fair import MMM_Fair"
   ]
  },
  {
   "cell_type": "code",
   "execution_count": null,
   "id": "c648558d-bf79-44c4-8704-96fe4e097a21",
   "metadata": {},
   "outputs": [],
   "source": []
  }
 ],
 "metadata": {
  "kernelspec": {
   "display_name": "Python 3 (ipykernel)",
   "language": "python",
   "name": "python3"
  },
  "language_info": {
   "codemirror_mode": {
    "name": "ipython",
    "version": 3
   },
   "file_extension": ".py",
   "mimetype": "text/x-python",
   "name": "python",
   "nbconvert_exporter": "python",
   "pygments_lexer": "ipython3",
   "version": "3.11.4"
  }
 },
 "nbformat": 4,
 "nbformat_minor": 5
}
